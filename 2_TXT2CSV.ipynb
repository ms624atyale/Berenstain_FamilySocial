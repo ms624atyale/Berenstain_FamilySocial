{
  "nbformat": 4,
  "nbformat_minor": 0,
  "metadata": {
    "colab": {
      "provenance": [],
      "authorship_tag": "ABX9TyMpemLlDf6zOeD80CW+Gyms",
      "include_colab_link": true
    },
    "kernelspec": {
      "name": "python3",
      "display_name": "Python 3"
    },
    "language_info": {
      "name": "python"
    }
  },
  "cells": [
    {
      "cell_type": "markdown",
      "metadata": {
        "id": "view-in-github",
        "colab_type": "text"
      },
      "source": [
        "<a href=\"https://colab.research.google.com/github/ms624atyale/Berenstain_FamilySocial/blob/main/2_TXT2CSV.ipynb\" target=\"_parent\"><img src=\"https://colab.research.google.com/assets/colab-badge.svg\" alt=\"Open In Colab\"/></a>"
      ]
    },
    {
      "cell_type": "markdown",
      "source": [
        "## **📕 Children's Picture Books**\n",
        "#🐹 🐱 🐳  **Berenstain Bears**\n",
        "- <font color = 'green'> **6 Copies for Family: New Baby(1974), Moving Day(1981), In the Dark(1982), Get in Fight(1982), The Truth(1983), Forget their Manners(1985), Bad Dream(1988), Too Much Vacation(1989)**\n",
        "- <font color = 'purple'> **6 Copies for Social: Sitter(1981), Go to Camp(1984), Learn about Strangers(1985), Get Stage Fright(1986), Week at Grandma's(1986), Bad Habit(1987), Trouble at School(1987)**\n",
        "\n",
        "### <font color = 'red'> **Original script for MK316's 📃 KSAT data process (as of 1005)**"
      ],
      "metadata": {
        "id": "w-c314VERd4P"
      }
    },
    {
      "cell_type": "markdown",
      "source": [
        "###🐹🐾 **1️⃣ Pandas Library**"
      ],
      "metadata": {
        "id": "CBjBFKTsRrVM"
      }
    },
    {
      "cell_type": "code",
      "execution_count": null,
      "metadata": {
        "id": "tcaFSi3cP_JJ",
        "colab": {
          "base_uri": "https://localhost:8080/"
        },
        "outputId": "bcdfb024-6e2c-42cc-eb00-96b709405b3e"
      },
      "outputs": [
        {
          "output_type": "stream",
          "name": "stdout",
          "text": [
            "Requirement already satisfied: pandas in /usr/local/lib/python3.11/dist-packages (2.2.2)\n",
            "Requirement already satisfied: numpy>=1.23.2 in /usr/local/lib/python3.11/dist-packages (from pandas) (2.0.2)\n",
            "Requirement already satisfied: python-dateutil>=2.8.2 in /usr/local/lib/python3.11/dist-packages (from pandas) (2.9.0.post0)\n",
            "Requirement already satisfied: pytz>=2020.1 in /usr/local/lib/python3.11/dist-packages (from pandas) (2025.2)\n",
            "Requirement already satisfied: tzdata>=2022.7 in /usr/local/lib/python3.11/dist-packages (from pandas) (2025.2)\n",
            "Requirement already satisfied: six>=1.5 in /usr/local/lib/python3.11/dist-packages (from python-dateutil>=2.8.2->pandas) (1.17.0)\n",
            "Collecting lexical_diversity\n",
            "  Downloading lexical_diversity-0.1.1-py3-none-any.whl.metadata (4.1 kB)\n",
            "Downloading lexical_diversity-0.1.1-py3-none-any.whl (117 kB)\n",
            "\u001b[2K   \u001b[90m━━━━━━━━━━━━━━━━━━━━━━━━━━━━━━━━━━━━━━━━\u001b[0m \u001b[32m117.8/117.8 kB\u001b[0m \u001b[31m4.1 MB/s\u001b[0m eta \u001b[36m0:00:00\u001b[0m\n",
            "\u001b[?25hInstalling collected packages: lexical_diversity\n",
            "Successfully installed lexical_diversity-0.1.1\n"
          ]
        }
      ],
      "source": [
        "!pip install pandas\n",
        "!pip install lexical_diversity\n",
        "import pandas as pd #Import Pandas Package\n",
        "import lexical_diversity as ld"
      ]
    },
    {
      "cell_type": "markdown",
      "source": [
        "###🐹🐾 **2️⃣ Clone a repository on your github (Beware that the following code uses your instructor's github repository 🍎🍎🍎🍎🍎**"
      ],
      "metadata": {
        "id": "LUF15ab3R1a-"
      }
    },
    {
      "cell_type": "code",
      "source": [
        "!git clone https://github.com/ms624atyale/Berenstain_FamilySocial"
      ],
      "metadata": {
        "id": "trFWyiPGRclG",
        "colab": {
          "base_uri": "https://localhost:8080/"
        },
        "outputId": "c61d4770-2fd5-4e1b-ab6e-0181df839cad"
      },
      "execution_count": null,
      "outputs": [
        {
          "output_type": "stream",
          "name": "stdout",
          "text": [
            "Cloning into 'Berenstain_FamilySocial'...\n",
            "remote: Enumerating objects: 119, done.\u001b[K\n",
            "remote: Counting objects: 100% (119/119), done.\u001b[K\n",
            "remote: Compressing objects: 100% (115/115), done.\u001b[K\n",
            "remote: Total 119 (delta 58), reused 0 (delta 0), pack-reused 0 (from 0)\u001b[K\n",
            "Receiving objects: 100% (119/119), 345.34 KiB | 1.40 MiB/s, done.\n",
            "Resolving deltas: 100% (58/58), done.\n"
          ]
        }
      ]
    },
    {
      "cell_type": "markdown",
      "source": [
        "###🐹🐾 **3️⃣ Set your currant directory of your data folder where your txt file(s) are saved**\n",
        "\n",
        "- convert your txt file to matrix using DataFrame( ) class\n",
        "- set your current directory using %cd\n",
        "- save your data with DataFrame configure to csv(comma separated values)"
      ],
      "metadata": {
        "id": "--IeN8FFSDrm"
      }
    },
    {
      "cell_type": "markdown",
      "source": [
        "#💊 <font color = 'green'> **Avoid overlapping indecies**"
      ],
      "metadata": {
        "id": "x9_M3AaNapQ9"
      }
    },
    {
      "cell_type": "code",
      "source": [
        "import pandas as pd\n",
        "import glob\n",
        "\n",
        "# Change directory\n",
        "%cd /content/Berenstain_FamilySocial/Data_Frame\n",
        "\n",
        "# Load all .txt files\n",
        "fns = glob.glob('*.txt')\n",
        "\n",
        "# List to hold each temporary DataFrame\n",
        "df_list = []\n",
        "\n",
        "# Load each file and append to list\n",
        "for fn in fns:\n",
        "    dftmp = pd.read_csv(fn, sep='@')\n",
        "    df_list.append(dftmp)\n",
        "\n",
        "# Concatenate all and reset index\n",
        "df = pd.concat(df_list, ignore_index=True)\n",
        "\n",
        "# Go back to main directory\n",
        "%cd /content/Berenstain_FamilySocial/Data_Frame\n",
        "\n",
        "# Save as CSV\n",
        "df.to_csv(\"./berenstain_8family_8social.csv\", index=False)\n",
        "\n",
        "# Display the DataFrame\n",
        "print(df)"
      ],
      "metadata": {
        "id": "yC6Yd8pJaTQM",
        "colab": {
          "base_uri": "https://localhost:8080/"
        },
        "outputId": "05322060-306f-4114-c747-d6cebe8aaba8"
      },
      "execution_count": null,
      "outputs": [
        {
          "output_type": "stream",
          "name": "stdout",
          "text": [
            "/content/Berenstain_FamilySocial/Data_Frame\n",
            "/content/Berenstain_FamilySocial/Data_Frame\n",
            "                                                 Text  publish year  \\\n",
            "0   what’s this said papa bear as he took the day’...          1981   \n",
            "1   it was the last day of school and the beginnin...          1982   \n",
            "2   the bear family who lived in the big tree hous...          1984   \n",
            "3   brother and sister bear who lived with their m...          1985   \n",
            "4   on the way to school one day sister bear broth...          1986   \n",
            "5   once in a while the bear family who lived in t...          1986   \n",
            "6   sister bear who lived with her mama papa and b...          1987   \n",
            "7   though brother and sister bear were usually ve...          1987   \n",
            "8   down a sunny dirt road over a log bridge up a ...          1974   \n",
            "9   the bear family didn’t always live in the big ...          1981   \n",
            "10  brother bear said sister impatiently are you g...          1982   \n",
            "11  most morning in bear country the sun rose to g...          1982   \n",
            "12  it was a lazy sort of day in bear country the ...          1983   \n",
            "13  there was trouble in the big tree house down a...          1985   \n",
            "14  brother bear was just crazy about space grizzl...          1988   \n",
            "15  well that’s everything said mama bear as she a...          1989   \n",
            "\n",
            "                     title           category  \n",
            "0                   sitter   beyond family     \n",
            "1               go to camp  beyond family      \n",
            "2           mama’s new job  beyond family      \n",
            "3    learn about strangers    beyond family    \n",
            "4         get stage fright      beyond family  \n",
            "5    the week at grandma’s      beyond family  \n",
            "6            the bad habit      beyond family  \n",
            "7   the trouble at school                 NaN  \n",
            "8                 new baby        family       \n",
            "9               moving day         family      \n",
            "10             in the dark         family      \n",
            "11          get in a fight         family      \n",
            "12               the truth         family      \n",
            "13    forget their manners         family      \n",
            "14           the bad dream           family    \n",
            "15       too much vacation             family  \n"
          ]
        }
      ]
    },
    {
      "cell_type": "markdown",
      "source": [
        "###🐹🐾 **4️⃣ Dlownload .csv file(s) created under the Data_Frame folder to the relevant directory (e.g., Data_Frame) of your github account**"
      ],
      "metadata": {
        "id": "9t8iPOJmbNzA"
      }
    }
  ]
}