{
  "nbformat": 4,
  "nbformat_minor": 0,
  "metadata": {
    "colab": {
      "provenance": [],
      "authorship_tag": "ABX9TyOcGgrQ99riv9q9gNnty8R8",
      "include_colab_link": true
    },
    "kernelspec": {
      "name": "python3",
      "display_name": "Python 3"
    },
    "language_info": {
      "name": "python"
    }
  },
  "cells": [
    {
      "cell_type": "markdown",
      "metadata": {
        "id": "view-in-github",
        "colab_type": "text"
      },
      "source": [
        "<a href=\"https://colab.research.google.com/github/ms624atyale/Berenstain_FamilySocial/blob/main/2_txt2csv_punctuation.ipynb\" target=\"_parent\"><img src=\"https://colab.research.google.com/assets/colab-badge.svg\" alt=\"Open In Colab\"/></a>"
      ]
    },
    {
      "cell_type": "markdown",
      "source": [
        "## **📕 Children's Picture Books**\n",
        "#🐹 🐱 🐳  **Berenstain Bears**\n",
        "- <font color = 'green'> **6 Copies for Family: New Baby(1974), Moving Day(1981), In the Dark(1982), Get in Fight(1982), The Truth(1983), Forget their Manners(1985), Bad Dream(1988), Too Much Vacation(1989)**\n",
        "- <font color = 'purple'> **6 Copies for Social: Sitter(1981), Go to Camp(1984), Learn about Strangers(1985), Get Stage Fright(1986), Week at Grandma's(1986), Bad Habit(1987), Trouble at School(1987)**\n",
        "\n",
        "### <font color = 'red'> **Original script for MK316's 📃 KSAT data process (as of 1005)**"
      ],
      "metadata": {
        "id": "w-c314VERd4P"
      }
    },
    {
      "cell_type": "markdown",
      "source": [
        "###🐹🐾 **1️⃣ Pandas Library**"
      ],
      "metadata": {
        "id": "CBjBFKTsRrVM"
      }
    },
    {
      "cell_type": "code",
      "execution_count": null,
      "metadata": {
        "id": "tcaFSi3cP_JJ",
        "colab": {
          "base_uri": "https://localhost:8080/"
        },
        "outputId": "a63b70a1-a146-46c2-e09c-29bb4e732227"
      },
      "outputs": [
        {
          "output_type": "stream",
          "name": "stdout",
          "text": [
            "Requirement already satisfied: pandas in /usr/local/lib/python3.12/dist-packages (2.2.2)\n",
            "Requirement already satisfied: numpy>=1.26.0 in /usr/local/lib/python3.12/dist-packages (from pandas) (2.0.2)\n",
            "Requirement already satisfied: python-dateutil>=2.8.2 in /usr/local/lib/python3.12/dist-packages (from pandas) (2.9.0.post0)\n",
            "Requirement already satisfied: pytz>=2020.1 in /usr/local/lib/python3.12/dist-packages (from pandas) (2025.2)\n",
            "Requirement already satisfied: tzdata>=2022.7 in /usr/local/lib/python3.12/dist-packages (from pandas) (2025.2)\n",
            "Requirement already satisfied: six>=1.5 in /usr/local/lib/python3.12/dist-packages (from python-dateutil>=2.8.2->pandas) (1.17.0)\n",
            "Collecting lexical_diversity\n",
            "  Downloading lexical_diversity-0.1.1-py3-none-any.whl.metadata (4.1 kB)\n",
            "Downloading lexical_diversity-0.1.1-py3-none-any.whl (117 kB)\n",
            "\u001b[2K   \u001b[90m━━━━━━━━━━━━━━━━━━━━━━━━━━━━━━━━━━━━━━━━\u001b[0m \u001b[32m117.8/117.8 kB\u001b[0m \u001b[31m7.8 MB/s\u001b[0m eta \u001b[36m0:00:00\u001b[0m\n",
            "\u001b[?25hInstalling collected packages: lexical_diversity\n",
            "Successfully installed lexical_diversity-0.1.1\n"
          ]
        }
      ],
      "source": [
        "!pip install pandas\n",
        "!pip install lexical_diversity\n",
        "import pandas as pd #Import Pandas Package\n",
        "import lexical_diversity as ld"
      ]
    },
    {
      "cell_type": "markdown",
      "source": [
        "###🐹🐾 **2️⃣ Clone a repository on your github (Beware that the following code uses your instructor's github repository 🍎🍎🍎🍎🍎**"
      ],
      "metadata": {
        "id": "LUF15ab3R1a-"
      }
    },
    {
      "cell_type": "code",
      "source": [
        "!git clone https://github.com/ms624atyale/Berenstain_FamilySocial"
      ],
      "metadata": {
        "id": "trFWyiPGRclG",
        "colab": {
          "base_uri": "https://localhost:8080/"
        },
        "outputId": "e29b9886-d3d9-4680-a4ef-f88f26cb3def"
      },
      "execution_count": null,
      "outputs": [
        {
          "output_type": "stream",
          "name": "stdout",
          "text": [
            "Cloning into 'Berenstain_FamilySocial'...\n",
            "remote: Enumerating objects: 248, done.\u001b[K\n",
            "remote: Counting objects: 100% (125/125), done.\u001b[K\n",
            "remote: Compressing objects: 100% (105/105), done.\u001b[K\n",
            "remote: Total 248 (delta 78), reused 20 (delta 20), pack-reused 123 (from 1)\u001b[K\n",
            "Receiving objects: 100% (248/248), 3.73 MiB | 26.00 MiB/s, done.\n",
            "Resolving deltas: 100% (128/128), done.\n"
          ]
        }
      ]
    },
    {
      "cell_type": "markdown",
      "source": [
        "###🐹🐾 **3️⃣ Set your currant directory of your data folder where your txt file(s) are saved**\n",
        "\n",
        "- convert your txt file to matrix using DataFrame( ) class\n",
        "- set your current directory using %cd\n",
        "- save your data with DataFrame configure to csv(comma separated values)"
      ],
      "metadata": {
        "id": "--IeN8FFSDrm"
      }
    },
    {
      "cell_type": "markdown",
      "source": [
        "#💊 <font color = 'green'> **Avoid overlapping indecies**"
      ],
      "metadata": {
        "id": "x9_M3AaNapQ9"
      }
    },
    {
      "cell_type": "code",
      "source": [
        "import pandas as pd\n",
        "import glob\n",
        "\n",
        "# Change directory\n",
        "%cd /content/Berenstain_FamilySocial/berenstain_8family_sentence\n",
        "\n",
        "# Load all .txt files\n",
        "fns = glob.glob('*.txt')\n",
        "\n",
        "# List to hold each temporary DataFrame\n",
        "df_list = []\n",
        "\n",
        "# Load each file and append to list\n",
        "for fn in fns:\n",
        "    dftmp = pd.read_csv(fn, sep='@')\n",
        "    df_list.append(dftmp)\n",
        "\n",
        "# Concatenate all and reset index\n",
        "df = pd.concat(df_list, ignore_index=True)\n",
        "\n",
        "# Go back to main directory\n",
        "%cd /content/Berenstain_FamilySocial/berenstain_8family_sentence\n",
        "\n",
        "# Save as CSV\n",
        "df.to_csv(\"./berenstain_8family.csv\", index=False)\n",
        "\n",
        "# Display the DataFrame\n",
        "print(df)"
      ],
      "metadata": {
        "id": "yC6Yd8pJaTQM",
        "colab": {
          "base_uri": "https://localhost:8080/"
        },
        "outputId": "a18c2de2-2ff5-4afd-bb81-0f804155ebe8"
      },
      "execution_count": null,
      "outputs": [
        {
          "output_type": "stream",
          "name": "stdout",
          "text": [
            "/content/Berenstain_FamilySocial/berenstain_8family_sentence\n",
            "/content/Berenstain_FamilySocial/berenstain_8family_sentence\n",
            "                                                text  publish year  \\\n",
            "0  Down a sunny dirt road, over a log bridge, up ...          1974   \n",
            "1  The Bear family didn't always live in the big ...          1981   \n",
            "2  Sister and Brother Bear at the Bear Country Li...          1982   \n",
            "3  Most morning, in Bear Country, the sun rose to...          1982   \n",
            "4  It was a lazy sort of day in Bear Country. The...          1983   \n",
            "5  There was trouble in the big tree house down a...          1985   \n",
            "6  Brother Bear was just crazy about Space Grizzl...          1988   \n",
            "7  Mama Bear said \\Well, that's everything,\\\" as ...          1989   \n",
            "\n",
            "                  title   category  \n",
            "0              new baby    family   \n",
            "1            moving day   family    \n",
            "2           in the dark   family    \n",
            "3        get in a fight    family   \n",
            "4             the truth  family     \n",
            "5  forget their manners    family   \n",
            "6         the bad dream     family  \n",
            "7     too much vacation     family  \n"
          ]
        }
      ]
    },
    {
      "cell_type": "code",
      "source": [
        "import pandas as pd\n",
        "import glob\n",
        "\n",
        "# Change directory\n",
        "%cd /content/Berenstain_FamilySocial/berenstain_8social_sentence\n",
        "\n",
        "# Load all .txt files\n",
        "fns = glob.glob('*.txt')\n",
        "\n",
        "# List to hold each temporary DataFrame\n",
        "df_list = []\n",
        "\n",
        "# Load each file and append to list\n",
        "for fn in fns:\n",
        "    dftmp = pd.read_csv(fn, sep='@')\n",
        "    df_list.append(dftmp)\n",
        "\n",
        "# Concatenate all and reset index\n",
        "df = pd.concat(df_list, ignore_index=True)\n",
        "\n",
        "# Go back to main directory\n",
        "%cd /content/Berenstain_FamilySocial/berenstain_8social_sentence\n",
        "\n",
        "# Save as CSV\n",
        "df.to_csv(\"./berenstain_8social.csv\", index=False)\n",
        "\n",
        "# Display the DataFrame\n",
        "print(df)"
      ],
      "metadata": {
        "colab": {
          "base_uri": "https://localhost:8080/"
        },
        "id": "l7TNUsgpKBhW",
        "outputId": "8c6335aa-dd25-482e-d996-7bed8bbac1a0"
      },
      "execution_count": null,
      "outputs": [
        {
          "output_type": "stream",
          "name": "stdout",
          "text": [
            "/content/Berenstain_FamilySocial/berenstain_8social_sentence\n",
            "/content/Berenstain_FamilySocial/berenstain_8social_sentence\n",
            "                                                text  publish year  \\\n",
            "0  It was a notice telling about an important mee...          1981   \n",
            "1  It was the last day of school and the beginnin...          1982   \n",
            "2  The Bear family, who lived in the big tree hou...          1984   \n",
            "3  Brother and Sister Bear, who lived with their ...          1985   \n",
            "4  On the way to school one day Sister Bear, Brot...          1986   \n",
            "5  Once in a while the Bear family, who lived in ...          1986   \n",
            "6  Sister Bear, who lived with her mama, papa, an...          1987   \n",
            "7  Though Brother and Sister Bear were usually ve...          1987   \n",
            "\n",
            "                   title   category  \n",
            "0                 sitter    social   \n",
            "1             go to camp   social    \n",
            "2         mama's new job  social     \n",
            "3  learn about strangers  social     \n",
            "4       get stage fright     social  \n",
            "5  the week at grandma's     social  \n",
            "6          the bad habit     social  \n",
            "7  the trouble at school     social  \n"
          ]
        }
      ]
    },
    {
      "cell_type": "markdown",
      "source": [
        "###🐹🐾 **4️⃣ Dlownload .csv file(s) created under the Data_Frame folder to the relevant directory (e.g., Data_Frame) of your github account**"
      ],
      "metadata": {
        "id": "9t8iPOJmbNzA"
      }
    }
  ]
}